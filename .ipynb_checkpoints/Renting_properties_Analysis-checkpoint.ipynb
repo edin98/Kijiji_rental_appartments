{
 "cells": [
  {
   "cell_type": "code",
   "execution_count": null,
   "id": "10f05283",
   "metadata": {},
   "outputs": [],
   "source": [
    "import pandas as pd\n",
    "import numpy as np \n",
    "import matplotlib.pyplot as plt\n",
    "import seaborn as sns\n",
    "%matplotlib inline"
   ]
  },
  {
   "cell_type": "code",
   "execution_count": null,
   "id": "0ee1d6be",
   "metadata": {},
   "outputs": [],
   "source": [
    "pd.set_option('display.max_rows', None)  # Show all rows\n",
    "pd.set_option('display.max_columns', None)"
   ]
  },
  {
   "cell_type": "code",
   "execution_count": null,
   "id": "580b0458",
   "metadata": {},
   "outputs": [],
   "source": [
    "df = pd.read_csv('Renting_properties_data.csv')\n",
    "#df.sort_values('price',ascending=True)"
   ]
  },
  {
   "cell_type": "code",
   "execution_count": null,
   "id": "2276596e",
   "metadata": {},
   "outputs": [],
   "source": [
    "df.drop('Unnamed: 0', inplace=True, axis=1)"
   ]
  },
  {
   "cell_type": "code",
   "execution_count": null,
   "id": "45aac822",
   "metadata": {
    "scrolled": true
   },
   "outputs": [],
   "source": [
    "df.head()"
   ]
  },
  {
   "cell_type": "code",
   "execution_count": 124,
   "id": "3692a7e6",
   "metadata": {
    "scrolled": true
   },
   "outputs": [
    {
     "data": {
      "text/plain": [
       "title                   object\n",
       "price                  float64\n",
       "description             object\n",
       "date_posted             object\n",
       "address                 object\n",
       "url                     object\n",
       "parking                  int64\n",
       "date d'emménagement     object\n",
       "animals                  int64\n",
       "area                   float32\n",
       "dtype: object"
      ]
     },
     "execution_count": 124,
     "metadata": {},
     "output_type": "execute_result"
    }
   ],
   "source": [
    "df.dtypes"
   ]
  },
  {
   "cell_type": "code",
   "execution_count": 106,
   "id": "d4cf12d7",
   "metadata": {},
   "outputs": [
    {
     "name": "stdout",
     "output_type": "stream",
     "text": [
      "The area of second observation is 600 and the data type is <class 'str'>\n"
     ]
    }
   ],
   "source": [
    "#the problem we are facing right now is that some values are not float type, but instead a string\n",
    "print(f'The area of second observation is {df[\"area\"][1]} and the data type is {type(df[\"area\"][1])}')"
   ]
  },
  {
   "cell_type": "code",
   "execution_count": 107,
   "id": "05ba1711",
   "metadata": {},
   "outputs": [
    {
     "name": "stdout",
     "output_type": "stream",
     "text": [
      "Okay now the area of second observation is 600.0 and the data type is <class 'numpy.float32'>\n"
     ]
    }
   ],
   "source": [
    "df['area'] = pd.to_numeric(df['area'], downcast='float', errors='coerce')\n",
    "print(f'Okay now the area of second observation is {df[\"area\"][1]} and the data type is {type(df[\"area\"][1])}')"
   ]
  },
  {
   "cell_type": "code",
   "execution_count": 111,
   "id": "ada3f7e1",
   "metadata": {},
   "outputs": [
    {
     "data": {
      "text/plain": [
       "0      NaN\n",
       "1    600.0\n",
       "2    380.0\n",
       "3    360.0\n",
       "4    350.0\n",
       "Name: area, dtype: float32"
      ]
     },
     "execution_count": 111,
     "metadata": {},
     "output_type": "execute_result"
    }
   ],
   "source": [
    "df['area'].head()"
   ]
  },
  {
   "cell_type": "code",
   "execution_count": null,
   "id": "97c1c1de",
   "metadata": {},
   "outputs": [],
   "source": [
    "#Okay now we changed the date_posted and date d'emménagement into \"date data type\"\n",
    "#we changed area and price into float data type\n",
    "#parking was already an integer data type\n",
    "#next, I will change 'animals' into categorical data type 0,1,2 (0 for no animals, 1 for limited and 2 for yes)\n",
    "#then, I will change address into a \"address data type\", for better geographical plotting (if possible)\n",
    "#then, I will find a way to delete repeated observations \n",
    "#finally, I will find a way to automate the whole process"
   ]
  },
  {
   "cell_type": "code",
   "execution_count": 118,
   "id": "07cd37d2",
   "metadata": {},
   "outputs": [],
   "source": [
    "df['animals'] = df['animals'].replace('Non', 0)\n",
    "df['animals'] = df['animals'].replace('Limité', 1)\n",
    "df['animals'] = df['animals'].replace('Oui', 2)"
   ]
  },
  {
   "cell_type": "code",
   "execution_count": 120,
   "id": "14f460b5",
   "metadata": {},
   "outputs": [
    {
     "data": {
      "text/plain": [
       "0    0\n",
       "1    0\n",
       "2    0\n",
       "3    0\n",
       "4    1\n",
       "Name: animals, dtype: int64"
      ]
     },
     "execution_count": 120,
     "metadata": {},
     "output_type": "execute_result"
    }
   ],
   "source": [
    "df['animals'].head()"
   ]
  },
  {
   "cell_type": "code",
   "execution_count": 126,
   "id": "ca72ed7f",
   "metadata": {},
   "outputs": [
    {
     "data": {
      "text/plain": [
       "str"
      ]
     },
     "execution_count": 126,
     "metadata": {},
     "output_type": "execute_result"
    }
   ],
   "source": [
    "#Now, I will try to change address strings into address data types (if there exist one)\n",
    "#perhaps I should learn how to do geographical plotting first!\n",
    "#Pehaps is better to extract Latitude and Longitude by Address\n",
    "type(df['address'][0])"
   ]
  },
  {
   "cell_type": "code",
   "execution_count": null,
   "id": "c758d89d",
   "metadata": {},
   "outputs": [],
   "source": []
  },
  {
   "cell_type": "code",
   "execution_count": null,
   "id": "422dfc26",
   "metadata": {},
   "outputs": [],
   "source": []
  },
  {
   "cell_type": "code",
   "execution_count": null,
   "id": "31dad4ee",
   "metadata": {},
   "outputs": [],
   "source": []
  },
  {
   "cell_type": "code",
   "execution_count": null,
   "id": "a80c318b",
   "metadata": {},
   "outputs": [],
   "source": []
  },
  {
   "cell_type": "code",
   "execution_count": null,
   "id": "0f9b50cc",
   "metadata": {},
   "outputs": [],
   "source": []
  },
  {
   "cell_type": "code",
   "execution_count": null,
   "id": "485a2345",
   "metadata": {},
   "outputs": [],
   "source": []
  },
  {
   "cell_type": "code",
   "execution_count": null,
   "id": "ee4d9ed3",
   "metadata": {},
   "outputs": [],
   "source": []
  },
  {
   "cell_type": "code",
   "execution_count": null,
   "id": "f305e47a",
   "metadata": {},
   "outputs": [],
   "source": []
  },
  {
   "cell_type": "code",
   "execution_count": null,
   "id": "03c5d10d",
   "metadata": {},
   "outputs": [],
   "source": []
  },
  {
   "cell_type": "code",
   "execution_count": 143,
   "id": "e4607ef0",
   "metadata": {},
   "outputs": [
    {
     "data": {
      "text/plain": [
       "(array([   0.,  200.,  400.,  600.,  800., 1000., 1200., 1400.]),\n",
       " [Text(0.0, 0, '0'),\n",
       "  Text(200.0, 0, '200'),\n",
       "  Text(400.0, 0, '400'),\n",
       "  Text(600.0, 0, '600'),\n",
       "  Text(800.0, 0, '800'),\n",
       "  Text(1000.0, 0, '1000'),\n",
       "  Text(1200.0, 0, '1200'),\n",
       "  Text(1400.0, 0, '1400')])"
      ]
     },
     "execution_count": 143,
     "metadata": {},
     "output_type": "execute_result"
    },
    {
     "data": {
      "image/png": "[encoded data removed]",
      "text/plain": [
       "<Figure size 640x480 with 1 Axes>"
      ]
     },
     "metadata": {},
     "output_type": "display_data"
    }
   ],
   "source": [
    "sns.histplot(data=df['price'], bins=7)\n",
    "\n",
    "# Adjust the rotation and font properties of x-axis tick labels\n",
    "plt.xticks(rotation=45, fontsize=8)  # Adjust the rotation and fontsize as per your preference\n",
    "\n",
    "#plt.xlim(0,9)\n",
    "#Display the plot\n",
    "#plt.show()"
   ]
  },
  {
   "cell_type": "code",
   "execution_count": null,
   "id": "251d426e",
   "metadata": {},
   "outputs": [],
   "source": []
  }
 ],
 "metadata": {
  "kernelspec": {
   "display_name": "Python 3 (ipykernel)",
   "language": "python",
   "name": "python3"
  },
  "language_info": {
   "codemirror_mode": {
    "name": "ipython",
    "version": 3
   },
   "file_extension": ".py",
   "mimetype": "text/x-python",
   "name": "python",
   "nbconvert_exporter": "python",
   "pygments_lexer": "ipython3",
   "version": "3.10.11"
  }
 },
 "nbformat": 4,
 "nbformat_minor": 5
}
